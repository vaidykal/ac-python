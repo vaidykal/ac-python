{
 "cells": [
  {
   "cell_type": "code",
   "execution_count": 1,
   "metadata": {},
   "outputs": [
    {
     "data": {
      "text/plain": [
       "[1, 3, 5, 7, 9, 11, 13, 15, 17, 19]"
      ]
     },
     "execution_count": 1,
     "metadata": {},
     "output_type": "execute_result"
    }
   ],
   "source": [
    "l=list(range(1,20,2))\n",
    "l"
   ]
  },
  {
   "cell_type": "code",
   "execution_count": 10,
   "metadata": {},
   "outputs": [
    {
     "name": "stdout",
     "output_type": "stream",
     "text": [
      "[1, 3, 5, 7, 9, 11, 13, 15, 17, 19]\n",
      "0:9:4\n",
      "4:9:6\n",
      "4:6:5\n",
      "found in index:5\n"
     ]
    }
   ],
   "source": [
    "print(l);\n",
    "srch = 11\n",
    "s = 0\n",
    "mprev = 0\n",
    "e = len(l)-1\n",
    "notFound = True\n",
    "\n",
    "while notFound:\n",
    "    m = int((s+e)/2)\n",
    "    if mprev==m:\n",
    "        break;\n",
    "    print(str(s) + ':' + str(e) + ':' + str(m))\n",
    "\n",
    "    if srch == l[m]:\n",
    "        print('found in index:' + str(m));\n",
    "        notFound = False;\n",
    "    elif srch < l[m]:\n",
    "        e=m;\n",
    "    else:\n",
    "        s=m;\n",
    "    mprev=m;\n",
    "    \n",
    "\n",
    "if notFound:\n",
    "    print('Item not in list')"
   ]
  },
  {
   "cell_type": "code",
   "execution_count": null,
   "metadata": {},
   "outputs": [],
   "source": []
  }
 ],
 "metadata": {
  "kernelspec": {
   "display_name": "Python 3",
   "language": "python",
   "name": "python3"
  },
  "language_info": {
   "codemirror_mode": {
    "name": "ipython",
    "version": 3
   },
   "file_extension": ".py",
   "mimetype": "text/x-python",
   "name": "python",
   "nbconvert_exporter": "python",
   "pygments_lexer": "ipython3",
   "version": "3.7.3"
  }
 },
 "nbformat": 4,
 "nbformat_minor": 2
}
